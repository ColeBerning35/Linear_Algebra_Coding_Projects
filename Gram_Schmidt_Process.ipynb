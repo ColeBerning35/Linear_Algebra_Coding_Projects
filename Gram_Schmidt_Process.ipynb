{
  "nbformat": 4,
  "nbformat_minor": 0,
  "metadata": {
    "colab": {
      "name": "Gram-Schmidt Process",
      "provenance": [],
      "authorship_tag": "ABX9TyNZAwmfpy9hr/TdwPPuEUzv",
      "include_colab_link": true
    },
    "kernelspec": {
      "name": "python3",
      "display_name": "Python 3"
    },
    "language_info": {
      "name": "python"
    }
  },
  "cells": [
    {
      "cell_type": "markdown",
      "metadata": {
        "id": "view-in-github",
        "colab_type": "text"
      },
      "source": [
        "<a href=\"https://colab.research.google.com/github/ColeBerning35/Linear_Algebra_Coding_Projects/blob/main/Gram_Schmidt_Process.ipynb\" target=\"_parent\"><img src=\"https://colab.research.google.com/assets/colab-badge.svg\" alt=\"Open In Colab\"/></a>"
      ]
    },
    {
      "cell_type": "code",
      "execution_count": 1,
      "metadata": {
        "id": "Wiua8uW7PwGH"
      },
      "outputs": [],
      "source": [
        "import numpy as np\n",
        "from numpy import c_"
      ]
    },
    {
      "cell_type": "code",
      "source": [
        "# Write Vectors:\n",
        "r1 = np.array([3,6,0])\n",
        "r1\n",
        "# Dot product of r1 with itself:\n",
        "r1.dot(r1)"
      ],
      "metadata": {
        "colab": {
          "base_uri": "https://localhost:8080/"
        },
        "id": "YItzzvo2QVPg",
        "outputId": "f138c201-8b0f-4f7e-d79e-dfab319d6856"
      },
      "execution_count": 7,
      "outputs": [
        {
          "output_type": "execute_result",
          "data": {
            "text/plain": [
              "45"
            ]
          },
          "metadata": {},
          "execution_count": 7
        }
      ]
    },
    {
      "cell_type": "code",
      "source": [
        "np.sqrt(45)"
      ],
      "metadata": {
        "colab": {
          "base_uri": "https://localhost:8080/"
        },
        "id": "hPd54512QX3y",
        "outputId": "1700930e-78fc-4640-9b58-cd97af3b86d7"
      },
      "execution_count": 8,
      "outputs": [
        {
          "output_type": "execute_result",
          "data": {
            "text/plain": [
              "6.708203932499369"
            ]
          },
          "metadata": {},
          "execution_count": 8
        }
      ]
    },
    {
      "cell_type": "code",
      "source": [
        "print(\"This is the square root of 45:\", np.sqrt(45))"
      ],
      "metadata": {
        "colab": {
          "base_uri": "https://localhost:8080/"
        },
        "id": "AFQffAzoSfll",
        "outputId": "00c18251-9e69-4ecb-b5de-100e5eecd23b"
      },
      "execution_count": 10,
      "outputs": [
        {
          "output_type": "stream",
          "name": "stdout",
          "text": [
            "This is the square root of 45: 6.708203932499369\n"
          ]
        }
      ]
    },
    {
      "cell_type": "code",
      "source": [
        "# Gram-Schmidt process using the first vector [3,6,0]\n",
        "r1 = np.array([3,6,0])\n",
        "print(\"Our first messy vector is\",r1)\n",
        "# Temporary vector T1\n",
        "T1 = r1\n",
        "print(\"Our T1 vector is\", T1)\n",
        "# Find the magnitude of T1\n",
        "n1 = np.sqrt(T1.dot(T1))\n",
        "print(\"The size of T1 is |T1| =\", n1)\n",
        "# Renormalize, and create u1:\n",
        "u1 = (1/n1) * T1\n",
        "print(\"u1 =\", u1)"
      ],
      "metadata": {
        "colab": {
          "base_uri": "https://localhost:8080/"
        },
        "id": "smKQRe-nStSo",
        "outputId": "8162829f-ce86-4d48-b9ab-5e9ca12587e2"
      },
      "execution_count": 17,
      "outputs": [
        {
          "output_type": "stream",
          "name": "stdout",
          "text": [
            "Our first messy vector is [3 6 0]\n",
            "Our T1 vector is [3 6 0]\n",
            "The size of T1 is |T1| = 6.708203932499369\n",
            "u1 = [0.4472136  0.89442719 0.        ]\n"
          ]
        }
      ]
    },
    {
      "cell_type": "code",
      "source": [
        "# Gram-Schmidt process using the second vector [6,2,0]\n",
        "r2 = np.array([6,2,0])\n",
        "print(\"Our second messy vector is\",r2)\n",
        "# Temporary vector T2\n",
        "T2 = r2 - (r2.dot(u1))*u1\n",
        "print(\"Our T2 vector is\", T2)\n",
        "# Find the magnitude of T2\n",
        "n2 = np.sqrt(T2.dot(T2))\n",
        "print(\"The size of T2 is |T2| =\", n2)\n",
        "# Renormalize, and create u2:\n",
        "u2 = (1/n2) * T2\n",
        "print(\"u2 =\", u2)"
      ],
      "metadata": {
        "colab": {
          "base_uri": "https://localhost:8080/"
        },
        "id": "0vDPtAEgU-GR",
        "outputId": "2378b37d-9dc9-4960-af2f-a735e5800528"
      },
      "execution_count": 20,
      "outputs": [
        {
          "output_type": "stream",
          "name": "stdout",
          "text": [
            "Our second messy vector is [6 2 0]\n",
            "Our T2 vector is [ 4. -2.  0.]\n",
            "The size of T2 is |T2| = 4.47213595499958\n",
            "u2 = [ 0.89442719 -0.4472136   0.        ]\n"
          ]
        }
      ]
    },
    {
      "cell_type": "code",
      "source": [
        "# Gram-Schmidt process using the third vector [-4,2,0]\n",
        "r3 = np.array([-4,2,0])\n",
        "print(\"Our third messy vector is\",r3)\n",
        "# Temporary vector T3\n",
        "T3 = r3 - (r3.dot(u1))*u1 - (r3.dot(u2))*u2\n",
        "print(\"Our T3 vector is\", T3)\n",
        "# Find the magnitude of T3\n",
        "n3 = np.sqrt(T3.dot(T3))\n",
        "print(\"The size of T3 is |T3| =\", n3)\n",
        "# Renormalize, and create u3:\n"
      ],
      "metadata": {
        "colab": {
          "base_uri": "https://localhost:8080/"
        },
        "id": "qTYDp42WVuSM",
        "outputId": "202ebd5d-78cc-40d3-dad5-38cb82d5384d"
      },
      "execution_count": 23,
      "outputs": [
        {
          "output_type": "stream",
          "name": "stdout",
          "text": [
            "Our third messy vector is [-4  2  0]\n",
            "Our T3 vector is [-4.4408921e-16 -8.8817842e-16  0.0000000e+00]\n",
            "The size of T3 is |T3| = 9.930136612989092e-16\n",
            "u3 = [-0.4472136  -0.89442719  0.        ]\n"
          ]
        }
      ]
    },
    {
      "cell_type": "code",
      "source": [
        "# Gram-Schmidt process using the fourth vector [3,-4,3]\n",
        "r4 = np.array([3,-4,3])\n",
        "print(\"Our fourth messy vector is\",r4)\n",
        "# Temporary vector T4\n",
        "T4 = r4 - (r4.dot(u1))*u1 - (r4.dot(u2))*u2 \n",
        "print(\"Our T4 vector is\", T4)\n",
        "# Find the magnitude of T4\n",
        "n4 = np.sqrt(T4.dot(T4))\n",
        "print(\"The size of T4 is |T4| =\", n4)\n",
        "# Renormalize, and create u4:\n",
        "u4 = (1/n4) * T4\n",
        "print(\"u4 =\", u4)"
      ],
      "metadata": {
        "colab": {
          "base_uri": "https://localhost:8080/"
        },
        "id": "GR1JWGzEYHj7",
        "outputId": "d8e8a1d3-d48c-4063-f6d8-3b81a6e25393"
      },
      "execution_count": 25,
      "outputs": [
        {
          "output_type": "stream",
          "name": "stdout",
          "text": [
            "Our fourth messy vector is [ 3 -4  3]\n",
            "Our T4 vector is [4.44089210e-16 1.33226763e-15 3.00000000e+00]\n",
            "The size of T4 is |T4| = 3.0\n",
            "u4 = [1.48029737e-16 4.44089210e-16 1.00000000e+00]\n"
          ]
        }
      ]
    }
  ]
}